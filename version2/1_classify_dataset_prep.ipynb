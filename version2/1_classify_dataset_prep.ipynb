{
 "cells": [
  {
   "cell_type": "code",
   "execution_count": 1,
   "id": "bec012f9-973c-4d85-a20b-a11c89716262",
   "metadata": {},
   "outputs": [
    {
     "name": "stdout",
     "output_type": "stream",
     "text": [
      "BE CAREFULL warning are masked !!\n"
     ]
    }
   ],
   "source": [
    "import rasterio\n",
    "import numpy as np \n",
    "import pandas as pd\n",
    "import geopandas as gpd\n",
    "import pyproj\n",
    "from rasterstats import zonal_stats\n",
    "from rasterio.mask import mask\n",
    "from rasterio import features\n",
    "import warnings\n",
    "warnings.filterwarnings(\"ignore\")\n",
    "print(\"BE CAREFULL warning are masked !!\")"
   ]
  },
  {
   "cell_type": "markdown",
   "id": "a884951e-fa10-42a3-b053-e50c7ceaeb4a",
   "metadata": {},
   "source": [
    "import dataset"
   ]
  },
  {
   "cell_type": "code",
   "execution_count": 2,
   "id": "4ce51199-862f-4021-8600-44a88d954d45",
   "metadata": {},
   "outputs": [],
   "source": [
    "EnMAP_glob_path = 'images/EnMAP_resampled_notglob.tif'\n",
    "\n",
    "#glob_mask_path = 'images/4.tif'\n",
    "\n",
    "shp_path = 'images/DECL_23_crop.shp'"
   ]
  },
  {
   "cell_type": "code",
   "execution_count": 3,
   "id": "5965b06d-3f4a-4860-95a6-9a54f38905bf",
   "metadata": {},
   "outputs": [
    {
     "name": "stdout",
     "output_type": "stream",
     "text": [
      "{'driver': 'GTiff', 'dtype': 'float32', 'nodata': None, 'width': 1276, 'height': 1384, 'count': 224, 'crs': CRS.from_wkt('PROJCS[\"WGS 84 / UTM zone 31N\",GEOGCS[\"WGS 84\",DATUM[\"WGS_1984\",SPHEROID[\"WGS 84\",6378137,298.257223563,AUTHORITY[\"EPSG\",\"7030\"]],AUTHORITY[\"EPSG\",\"6326\"]],PRIMEM[\"Greenwich\",0,AUTHORITY[\"EPSG\",\"8901\"]],UNIT[\"degree\",0.0174532925199433,AUTHORITY[\"EPSG\",\"9122\"]],AUTHORITY[\"EPSG\",\"4326\"]],PROJECTION[\"Transverse_Mercator\"],PARAMETER[\"latitude_of_origin\",0],PARAMETER[\"central_meridian\",3],PARAMETER[\"scale_factor\",0.9996],PARAMETER[\"false_easting\",500000],PARAMETER[\"false_northing\",0],UNIT[\"metre\",1,AUTHORITY[\"EPSG\",\"9001\"]],AXIS[\"Easting\",EAST],AXIS[\"Northing\",NORTH],AUTHORITY[\"EPSG\",\"32631\"]]'), 'transform': Affine(30.0, 0.0, 570945.0,\n",
      "       0.0, -30.0, 5627835.0), 'blockxsize': 1276, 'blockysize': 1, 'tiled': False, 'compress': 'lzw', 'interleave': 'pixel'}\n"
     ]
    }
   ],
   "source": [
    "with rasterio.open(EnMAP_glob_path, 'r') as src:\n",
    "    print(src.profile)"
   ]
  },
  {
   "cell_type": "markdown",
   "id": "716f0111-d550-458b-8471-69422b3011af",
   "metadata": {},
   "source": [
    "Check crs"
   ]
  },
  {
   "cell_type": "code",
   "execution_count": 4,
   "id": "f74dc794-5441-49c0-b4c9-cdb3f8a01e7d",
   "metadata": {},
   "outputs": [
    {
     "name": "stdout",
     "output_type": "stream",
     "text": [
      "CRS are the same : EPSG:PROJCRS[\"WGS 84 / UTM zone 31N\",BASEGEOGCRS[\"WGS 84\",ENSEMBLE[\"World Geodetic System 1984 ensemble\",MEMBER[\"World Geodetic System 1984 (Transit)\"],MEMBER[\"World Geodetic System 1984 (G730)\"],MEMBER[\"World Geodetic System 1984 (G873)\"],MEMBER[\"World Geodetic System 1984 (G1150)\"],MEMBER[\"World Geodetic System 1984 (G1674)\"],MEMBER[\"World Geodetic System 1984 (G1762)\"],MEMBER[\"World Geodetic System 1984 (G2139)\"],MEMBER[\"World Geodetic System 1984 (G2296)\"],ELLIPSOID[\"WGS 84\",6378137,298.257223563,LENGTHUNIT[\"metre\",1]],ENSEMBLEACCURACY[2.0]],PRIMEM[\"Greenwich\",0,ANGLEUNIT[\"degree\",0.0174532925199433]],ID[\"EPSG\",4326]],CONVERSION[\"UTM zone 31N\",METHOD[\"Transverse Mercator\",ID[\"EPSG\",9807]],PARAMETER[\"Latitude of natural origin\",0,ANGLEUNIT[\"degree\",0.0174532925199433],ID[\"EPSG\",8801]],PARAMETER[\"Longitude of natural origin\",3,ANGLEUNIT[\"degree\",0.0174532925199433],ID[\"EPSG\",8802]],PARAMETER[\"Scale factor at natural origin\",0.9996,SCALEUNIT[\"unity\",1],ID[\"EPSG\",8805]],PARAMETER[\"False easting\",500000,LENGTHUNIT[\"metre\",1],ID[\"EPSG\",8806]],PARAMETER[\"False northing\",0,LENGTHUNIT[\"metre\",1],ID[\"EPSG\",8807]]],CS[Cartesian,2],AXIS[\"(E)\",east,ORDER[1],LENGTHUNIT[\"metre\",1]],AXIS[\"(N)\",north,ORDER[2],LENGTHUNIT[\"metre\",1]],USAGE[SCOPE[\"Navigation and medium accuracy spatial referencing.\"],AREA[\"Between 0°E and 6°E, northern hemisphere between equator and 84°N, onshore and offshore. Algeria. Andorra. Belgium. Benin. Burkina Faso. Denmark - North Sea. France. Germany - North Sea. Ghana. Luxembourg. Mali. Netherlands. Niger. Nigeria. Norway. Spain. Togo. United Kingdom (UK) - North Sea.\"],BBOX[0,0,84,6]],ID[\"EPSG\",32631]] = EPSG:PROJCS[\"WGS 84 / UTM zone 31N\",GEOGCS[\"WGS 84\",DATUM[\"WGS_1984\",SPHEROID[\"WGS 84\",6378137,298.257223563,AUTHORITY[\"EPSG\",\"7030\"]],AUTHORITY[\"EPSG\",\"6326\"]],PRIMEM[\"Greenwich\",0,AUTHORITY[\"EPSG\",\"8901\"]],UNIT[\"degree\",0.0174532925199433,AUTHORITY[\"EPSG\",\"9122\"]],AUTHORITY[\"EPSG\",\"4326\"]],PROJECTION[\"Transverse_Mercator\"],PARAMETER[\"latitude_of_origin\",0],PARAMETER[\"central_meridian\",3],PARAMETER[\"scale_factor\",0.9996],PARAMETER[\"false_easting\",500000],PARAMETER[\"false_northing\",0],UNIT[\"metre\",1,AUTHORITY[\"EPSG\",\"9001\"]],AXIS[\"Easting\",EAST],AXIS[\"Northing\",NORTH],AUTHORITY[\"EPSG\",\"32631\"]]\n"
     ]
    }
   ],
   "source": [
    "gdf = gpd.read_file(shp_path)\n",
    "src = rasterio.open(EnMAP_glob_path, 'r')\n",
    "\n",
    "crs_vector = pyproj.CRS(gdf.crs)\n",
    "crs_raster = pyproj.CRS(src.crs)\n",
    "\n",
    "if crs_vector == crs_raster:\n",
    "    print(f'CRS are the same : EPSG:{crs_vector} = EPSG:{crs_raster}')\n",
    "else:\n",
    "    print('We must reproject vector file')\n",
    "    gdf = gdf.to_crs(epsg=crs_raster.to_epsg())\n",
    "    print ('vector file has been well reprojected')"
   ]
  },
  {
   "cell_type": "markdown",
   "id": "75d82371-f9c4-4b87-b447-5ae9df3586a5",
   "metadata": {},
   "source": [
    "Applying buffer"
   ]
  },
  {
   "cell_type": "code",
   "execution_count": 5,
   "id": "4d652763-1525-4c78-ba8d-e06deb81bb2d",
   "metadata": {},
   "outputs": [
    {
     "name": "stdout",
     "output_type": "stream",
     "text": [
      "The Coordinates Reference System is EPSG:32631 \n",
      "\n",
      "There are 20256 polygons in the EnMAP area BEFORE applying the -30m buffer.\n",
      "There are 6167 polygons AFTER applying the 30m buffer.\n"
     ]
    }
   ],
   "source": [
    "gdf.geometry = gdf.geometry.buffer(-30)\n",
    "\n",
    "print(f'The Coordinates Reference System is {gdf.crs} \\n')\n",
    "\n",
    "print(f'There are {len(gdf)} polygons in the EnMAP area BEFORE applying the {-30}m buffer.')\n",
    "\n",
    "gdf.geometry = gdf.geometry.buffer(-30)\n",
    "\n",
    "gdf = gdf[~gdf.geometry.is_empty]    # Remove empty geometries\n",
    "\n",
    "print(f'There are {len(gdf)} polygons AFTER applying the {30}m buffer.')"
   ]
  },
  {
   "cell_type": "markdown",
   "id": "426950f7-b303-44bc-8ab9-96e45da8c7fc",
   "metadata": {},
   "source": [
    "filter gdf dataset"
   ]
  },
  {
   "cell_type": "code",
   "execution_count": 6,
   "id": "6402f469-335c-4568-9680-cfd0c75943a5",
   "metadata": {},
   "outputs": [],
   "source": [
    "code_list = ['311', '321', '331', '341', '351', '36']\n",
    "\n",
    "gdf_filtered = gdf.loc[gdf['CULT_COD'].isin(code_list)]\n",
    "gdf_filtered['area'] = gdf_filtered.geometry.area.astype(int)\n",
    "\n",
    "gdf_filtered = gdf_filtered.reset_index()"
   ]
  },
  {
   "cell_type": "markdown",
   "id": "9408deda-002b-4217-be6f-041531997dc1",
   "metadata": {},
   "source": [
    "Compute real area of each polygon, taking into account no data values"
   ]
  },
  {
   "cell_type": "code",
   "execution_count": 8,
   "id": "2b5cc127-67e8-4f50-893e-631e01a6337a",
   "metadata": {},
   "outputs": [],
   "source": [
    "'''\n",
    "src = rasterio.open(EnMAP_glob_path, \"r\")\n",
    "profile = src.profile\n",
    "profile.update(dtype=rasterio.float32, \n",
    "               count = 1, \n",
    "               compress = 'lzw')\n",
    "im_arr = src.read(3)\n",
    "\n",
    "src_cloud = rasterio.open(glob_mask_path)\n",
    "\n",
    "CLOUD_MASK = src_cloud.read(1)\n",
    "im_masked = CLOUD_MASK * im_arr\n",
    "'''\n",
    "\n",
    "src = rasterio.open(EnMAP_glob_path, \"r\")\n",
    "profile = src.profile\n",
    "profile.update(dtype=rasterio.float32, \n",
    "               count = 1, \n",
    "               compress = 'lzw')\n",
    "\n",
    "im_masked = src.read(3)\n",
    "\n",
    "columns = ['index']\n",
    "stats = ['count', 'mean', 'std', 'nodata']\n",
    "\n",
    "# Get transform from profile (metadata)\n",
    "profile = src.profile\n",
    "transform = profile['transform']\n",
    "\n",
    "src.close()\n",
    "\n",
    "df_masked = pd.DataFrame(zonal_stats(gdf_filtered,\n",
    "                                    im_masked,\n",
    "                                    affine=transform,\n",
    "                                    stats=['count', 'mean', 'std', 'nodata'],\n",
    "                                    nodata=0,\n",
    "                                    geojson_out=True,\n",
    "                                    ))\n",
    "\n",
    "df_masked = pd.json_normalize(df_masked['properties'])[columns + stats]\n",
    "df_masked = df_masked.loc[df_masked['count']>0]\n",
    "\n",
    "src.close()"
   ]
  },
  {
   "cell_type": "code",
   "execution_count": 9,
   "id": "9a811a6f-270c-41cd-a130-b8152152540a",
   "metadata": {},
   "outputs": [],
   "source": [
    "gdf_masked = pd.merge(gdf_filtered, df_masked, on = 'index', how = 'inner')\n",
    "gdf_masked['real_area'] = gdf_masked['area']*(gdf_masked['count']/(gdf_masked['count']+gdf_masked['nodata']))"
   ]
  },
  {
   "cell_type": "markdown",
   "id": "1e7a5cae-38dc-4a1e-807c-da32448f9565",
   "metadata": {},
   "source": [
    "Split 80/20"
   ]
  },
  {
   "cell_type": "code",
   "execution_count": 10,
   "id": "2a5367ec-09c3-4115-b261-b21b5eabad47",
   "metadata": {},
   "outputs": [
    {
     "name": "stdout",
     "output_type": "stream",
     "text": [
      "Total area: 29008395.001655277\n",
      "Desired 80% area: 23206716.00132422\n",
      "Actual 80% subset area: 23284272.792550378\n",
      "Number of polygons in 80% subset: 1406\n",
      "Number of polygons in 20% subset: 349\n",
      "Class 351:\n",
      "  Total area: 152814.34\n",
      "  80% area: 125621.34\n",
      "  20% area: 27193.0\n",
      "  Number of polygons in 80% subset: 13\n",
      "  Number of polygons in 20% subset: 6\n",
      "Class 311:\n",
      "  Total area: 24847830.256773323\n",
      "  80% area: 19883345.649392564\n",
      "  20% area: 4964484.607380763\n",
      "  Number of polygons in 80% subset: 1171\n",
      "  Number of polygons in 20% subset: 284\n",
      "Class 321:\n",
      "  Total area: 3712308.4048819514\n",
      "  80% area: 3009743.803157814\n",
      "  20% area: 702564.6017241379\n",
      "  Number of polygons in 80% subset: 194\n",
      "  Number of polygons in 20% subset: 54\n",
      "Class 36:\n",
      "  Total area: 246916.0\n",
      "  80% area: 223851.0\n",
      "  20% area: 23065.0\n",
      "  Number of polygons in 80% subset: 24\n",
      "  Number of polygons in 20% subset: 3\n",
      "Class 331:\n",
      "  Total area: 27123.0\n",
      "  80% area: 21886.0\n",
      "  20% area: 5237.0\n",
      "  Number of polygons in 80% subset: 2\n",
      "  Number of polygons in 20% subset: 1\n",
      "Class 341:\n",
      "  Total area: 21403.0\n",
      "  80% area: 19825.0\n",
      "  20% area: 1578.0\n",
      "  Number of polygons in 80% subset: 2\n",
      "  Number of polygons in 20% subset: 1\n"
     ]
    }
   ],
   "source": [
    "# Shuffle the GeoDataFrame rows\n",
    "gdf_masked = gdf_masked.sample(frac=1, random_state=42).reset_index(drop=True)\n",
    "\n",
    "# Function to perform the split for a specific class\n",
    "def split_class(gdf, desired_area_fraction=0.8):\n",
    "    # Calculate the total area for the class\n",
    "    total_area_class = gdf['real_area'].sum()\n",
    "    \n",
    "    # Desired area for the 80% subset\n",
    "    desired_area = desired_area_fraction * total_area_class\n",
    "    \n",
    "    # Initialize variables to track the cumulative area and the index to split\n",
    "    cumulative_area = 0\n",
    "    split_index = 0\n",
    "    \n",
    "    # Iterate over the rows to find the split point\n",
    "    for i, area in enumerate(gdf['real_area']):\n",
    "        cumulative_area += area\n",
    "        if cumulative_area >= desired_area:\n",
    "            split_index = i + 1\n",
    "            break\n",
    "    \n",
    "    # Split the GeoDataFrame\n",
    "    gdf_80 = gdf.iloc[:split_index]\n",
    "    gdf_20 = gdf.iloc[split_index:]\n",
    "    \n",
    "    # Ensure there's at least 1 polygon in the 20% subset if the class has more than 1 polygon\n",
    "    if len(gdf_20) == 0 and len(gdf) > 1:\n",
    "        gdf_80 = gdf.iloc[:-1]\n",
    "        gdf_20 = gdf.iloc[[-1]]  # Move the last polygon from the 80% to 20%\n",
    "\n",
    "    return gdf_80, gdf_20\n",
    "\n",
    "# List to store the subsets\n",
    "gdf_80_list = []\n",
    "gdf_20_list = []\n",
    "\n",
    "# Loop over each class\n",
    "for cult_cod in gdf_masked['CULT_COD'].unique():\n",
    "    # Filter the GeoDataFrame for the current class\n",
    "    gdf_class = gdf_masked[gdf_masked['CULT_COD'] == cult_cod]\n",
    "    \n",
    "    # Split the class-specific GeoDataFrame\n",
    "    gdf_80_class, gdf_20_class = split_class(gdf_class)\n",
    "    \n",
    "    # Append the results to the lists\n",
    "    gdf_80_list.append(gdf_80_class)\n",
    "    gdf_20_list.append(gdf_20_class)\n",
    "\n",
    "# Concatenate all the class-specific subsets to form the final GeoDataFrames\n",
    "gdf_80 = pd.concat(gdf_80_list).reset_index(drop=True)\n",
    "gdf_20 = pd.concat(gdf_20_list).reset_index(drop=True)\n",
    "\n",
    "# Print the results\n",
    "total_area = gdf_masked['real_area'].sum()\n",
    "desired_area = 0.8 * total_area\n",
    "\n",
    "print(f'Total area: {total_area}')\n",
    "print(f'Desired 80% area: {desired_area}')\n",
    "print(f'Actual 80% subset area: {gdf_80[\"real_area\"].sum()}')\n",
    "print(f'Number of polygons in 80% subset: {len(gdf_80)}')\n",
    "print(f'Number of polygons in 20% subset: {len(gdf_20)}')\n",
    "\n",
    "# Verify the split for each class\n",
    "for cult_cod in gdf_masked['CULT_COD'].unique():\n",
    "    class_total_area = gdf_masked[gdf_masked['CULT_COD'] == cult_cod]['real_area'].sum()\n",
    "    class_80_area = gdf_80[gdf_80['CULT_COD'] == cult_cod]['real_area'].sum()\n",
    "    class_20_area = gdf_20[gdf_20['CULT_COD'] == cult_cod]['real_area'].sum()\n",
    "    class_80_polygons = len(gdf_80[gdf_80['CULT_COD'] == cult_cod])\n",
    "    class_20_polygons = len(gdf_20[gdf_20['CULT_COD'] == cult_cod])\n",
    "    print(f'Class {cult_cod}:')\n",
    "    print(f'  Total area: {class_total_area}')\n",
    "    print(f'  80% area: {class_80_area}')\n",
    "    print(f'  20% area: {class_20_area}')\n",
    "    print(f'  Number of polygons in 80% subset: {class_80_polygons}')\n",
    "    print(f'  Number of polygons in 20% subset: {class_20_polygons}')\n"
   ]
  },
  {
   "cell_type": "code",
   "execution_count": 11,
   "id": "0a38f322-e3a7-46d8-9d9e-fd917b606747",
   "metadata": {},
   "outputs": [],
   "source": [
    "gdf_80 = gpd.GeoDataFrame(gdf_80, crs=\"EPSG:32631\", geometry=gdf_80['geometry'])\n",
    "gdf_20 = gpd.GeoDataFrame(gdf_20, crs=\"EPSG:32631\", geometry=gdf_20['geometry'])"
   ]
  },
  {
   "cell_type": "code",
   "execution_count": 13,
   "id": "93cfc12a-5745-4037-b7e1-630f80b19c87",
   "metadata": {},
   "outputs": [],
   "source": [
    "gdf_80.to_file('images/out/80.shp')\n",
    "\n",
    "gdf_20.to_file('images/out/20.shp')"
   ]
  },
  {
   "cell_type": "markdown",
   "id": "155d420f-fb33-4c6d-b301-2e99375620e9",
   "metadata": {},
   "source": [
    "import masked images"
   ]
  },
  {
   "cell_type": "code",
   "execution_count": 18,
   "id": "fa58fc29-ea6e-42c4-a7e5-faeb625c874b",
   "metadata": {},
   "outputs": [],
   "source": [
    "EnMAP_masked_path = 'images/EnMAP_resampled_notglob.tif'"
   ]
  },
  {
   "cell_type": "markdown",
   "id": "e81d549c-63a7-493a-86bd-773be9f96af4",
   "metadata": {},
   "source": [
    "Cropping images with plots"
   ]
  },
  {
   "cell_type": "markdown",
   "id": "a3543713-87c7-45dd-9c1e-e7a9186edb98",
   "metadata": {},
   "source": [
    "EnMAP"
   ]
  },
  {
   "cell_type": "code",
   "execution_count": 19,
   "id": "ccff2d9a-9653-4651-8da6-01109669aef8",
   "metadata": {},
   "outputs": [],
   "source": [
    "output_image_path = 'images/out/EnMAP_20.tif'\n",
    "\n",
    "# Open the source raster\n",
    "with rasterio.open(EnMAP_masked_path) as src:\n",
    "    # Read the GeoDataFrame with the polygons\n",
    "    geoms = gdf_20.geometry.values\n",
    "    \n",
    "    # Create a mask\n",
    "    out_image, out_transform = mask(src, geoms, crop=False, nodata=-10000)\n",
    "    \n",
    "    # Update metadata\n",
    "    out_meta = src.meta.copy()\n",
    "    out_meta.update({\"driver\": \"GTiff\",\n",
    "                     \"height\": out_image.shape[1],\n",
    "                     \"width\": out_image.shape[2],\n",
    "                     \"transform\": out_transform,\n",
    "                     \"nodata\": -10000})\n",
    "\n",
    "# Write the masked raster to a new file\n",
    "with rasterio.open(output_image_path, \"w\", **out_meta) as dst:\n",
    "    for i in range(224):\n",
    "        dst.write(out_image[i], i + 1)  # i + 1 is the band index\n",
    "\n",
    "\n",
    "src.close()\n",
    "dst.close()\n"
   ]
  },
  {
   "cell_type": "code",
   "execution_count": 20,
   "id": "32b5d4ab-ab3f-4e85-b37e-9426fd222f31",
   "metadata": {},
   "outputs": [],
   "source": [
    "output_image_path = 'images/out/EnMAP_80.tif'\n",
    "\n",
    "# Open the source raster\n",
    "with rasterio.open(EnMAP_masked_path) as src:\n",
    "    # Read the GeoDataFrame with the polygons\n",
    "    geoms = gdf_80.geometry.values\n",
    "    \n",
    "    # Create a mask\n",
    "    out_image, out_transform = mask(src, geoms, crop=False, nodata=-10000)\n",
    "    \n",
    "    # Update metadata\n",
    "    out_meta = src.meta.copy()\n",
    "    out_meta.update({\"driver\": \"GTiff\",\n",
    "                     \"height\": out_image.shape[1],\n",
    "                     \"width\": out_image.shape[2],\n",
    "                     \"transform\": out_transform,\n",
    "                     \"nodata\": -10000})\n",
    "\n",
    "# Write the masked raster to a new file\n",
    "with rasterio.open(output_image_path, \"w\", **out_meta) as dst:\n",
    "    for i in range(224):\n",
    "        dst.write(out_image[i], i + 1)  # i + 1 is the band index\n",
    "\n",
    "\n",
    "src.close()\n",
    "dst.close()"
   ]
  },
  {
   "cell_type": "markdown",
   "id": "a23f3aa6-6032-4178-a19e-8895c06c0a94",
   "metadata": {},
   "source": [
    "Rasterizing polygons"
   ]
  },
  {
   "cell_type": "code",
   "execution_count": 21,
   "id": "facdd561-fff3-4b3b-88d2-c08318b03ea0",
   "metadata": {},
   "outputs": [
    {
     "name": "stdout",
     "output_type": "stream",
     "text": [
      "Rasterization is done\n"
     ]
    }
   ],
   "source": [
    "img_ref = 'images/out/EnMAP_20.tif'\n",
    "rasterized_20_path = 'images/out/rasterized_20.tif'\n",
    "no_data = -10000\n",
    "\n",
    "# Open the source image to get metadata\n",
    "src = rasterio.open(img_ref, \"r\")\n",
    "out_meta = src.meta.copy()\n",
    "out_meta.update({\n",
    "    \"count\": 2,  # We want 2 bands in the output\n",
    "    \"nodata\": no_data\n",
    "})\n",
    "\n",
    "# Create the output raster with 2 bands\n",
    "dst = rasterio.open(rasterized_20_path, 'w+', **out_meta)\n",
    "\n",
    "# Prepare arrays for the two bands\n",
    "cult_cod_arr = dst.read(1, out_shape=(src.height, src.width))\n",
    "index_arr = dst.read(1, out_shape=(src.height, src.width))\n",
    "\n",
    "# This is where we create a generator of geom, value pairs to use in rasterizing\n",
    "geom_col = gdf_20.geometry \n",
    "code_col = gdf_20['CULT_COD'].astype(int)\n",
    "index_col = gdf_20.index\n",
    "\n",
    "# Create shapes generators\n",
    "shapes_cult_cod = ((geom, value) for geom, value in zip(geom_col, code_col))\n",
    "shapes_index = ((geom, index) for geom, index in zip(geom_col, index_col))\n",
    "\n",
    "# Rasterize CULT_COD band\n",
    "cult_cod_arr = features.rasterize(shapes=shapes_cult_cod,\n",
    "                                  fill=no_data,\n",
    "                                  out=cult_cod_arr,\n",
    "                                  transform=dst.transform)\n",
    "\n",
    "# Rasterize index band\n",
    "index_arr = features.rasterize(shapes=shapes_index,\n",
    "                               fill=no_data,\n",
    "                               out=index_arr,\n",
    "                               transform=dst.transform)\n",
    "\n",
    "# Write the two bands to the output file\n",
    "dst.write_band(1, cult_cod_arr)\n",
    "dst.write_band(2, index_arr)\n",
    "\n",
    "print('Rasterization is done')\n",
    "\n",
    "# Close rasterio objects\n",
    "src.close()\n",
    "dst.close()\n"
   ]
  },
  {
   "cell_type": "code",
   "execution_count": 22,
   "id": "3db86bcd-4948-4400-8960-bec254021a9e",
   "metadata": {},
   "outputs": [
    {
     "name": "stdout",
     "output_type": "stream",
     "text": [
      "Rasterization is done\n"
     ]
    }
   ],
   "source": [
    "img_ref = 'images/out/EnMAP_80.tif' ## to be change 20/80\n",
    "rasterized_80_path = 'images/out/rasterized_80.tif' ## to be change 20/80\n",
    "no_data = -10000\n",
    "\n",
    "# Open the source image to get metadata\n",
    "src = rasterio.open(img_ref, \"r\")\n",
    "out_meta = src.meta.copy()\n",
    "out_meta.update({\n",
    "    \"count\": 2,  # We want 2 bands in the output\n",
    "    \"nodata\": no_data\n",
    "})\n",
    "\n",
    "# Create the output raster with 2 bands\n",
    "dst = rasterio.open(rasterized_80_path, 'w+', **out_meta) ## to be change 20/80\n",
    "\n",
    "# Prepare arrays for the two bands\n",
    "cult_cod_arr = dst.read(1, out_shape=(src.height, src.width))\n",
    "index_arr = dst.read(1, out_shape=(src.height, src.width))\n",
    "\n",
    "# This is where we create a generator of geom, value pairs to use in rasterizing\n",
    "geom_col = gdf_80.geometry ## to be change 20/80\n",
    "code_col = gdf_80['CULT_COD'].astype(int) ## to be change 20/80\n",
    "index_col = gdf_80.index ## to be change 20/80\n",
    "\n",
    "# Create shapes generators\n",
    "shapes_cult_cod = ((geom, value) for geom, value in zip(geom_col, code_col))\n",
    "shapes_index = ((geom, index) for geom, index in zip(geom_col, index_col))\n",
    "\n",
    "# Rasterize CULT_COD band\n",
    "cult_cod_arr = features.rasterize(shapes=shapes_cult_cod,\n",
    "                                  fill=no_data,\n",
    "                                  out=cult_cod_arr,\n",
    "                                  transform=dst.transform)\n",
    "\n",
    "# Rasterize index band\n",
    "index_arr = features.rasterize(shapes=shapes_index,\n",
    "                               fill=no_data,\n",
    "                               out=index_arr,\n",
    "                               transform=dst.transform)\n",
    "\n",
    "# Write the two bands to the output file\n",
    "dst.write_band(1, cult_cod_arr)\n",
    "dst.write_band(2, index_arr)\n",
    "\n",
    "print('Rasterization is done')\n",
    "\n",
    "# Close rasterio objects\n",
    "src.close()\n",
    "dst.close()\n"
   ]
  }
 ],
 "metadata": {
  "kernelspec": {
   "display_name": "Python 3 (ipykernel)",
   "language": "python",
   "name": "python3"
  },
  "language_info": {
   "codemirror_mode": {
    "name": "ipython",
    "version": 3
   },
   "file_extension": ".py",
   "mimetype": "text/x-python",
   "name": "python",
   "nbconvert_exporter": "python",
   "pygments_lexer": "ipython3",
   "version": "3.11.11"
  }
 },
 "nbformat": 4,
 "nbformat_minor": 5
}
