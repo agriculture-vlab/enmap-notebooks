{
 "cells": [
  {
   "cell_type": "code",
   "execution_count": 1,
   "id": "d8a6b304-c6a4-46f2-bba4-aebf5bd8b047",
   "metadata": {},
   "outputs": [],
   "source": [
    "import numpy as np\n",
    "import pandas as pd"
   ]
  },
  {
   "cell_type": "code",
   "execution_count": 2,
   "id": "7ad12277-c448-4e8f-a16c-bf2a06ee4c05",
   "metadata": {},
   "outputs": [],
   "source": [
    "gradient_df = pd.read_csv('images/out/df_EnMAP_masked_gradient_80perc.csv')\n",
    "\n",
    "df_plots = pd.read_csv('images/out/df_plots_raw_masked_clean_80perc.csv')\n",
    "\n",
    "\n",
    "df_S2 = pd.read_csv('images/out/df_S2_raw_masked_clean_80perc.csv')\n",
    "\n"
   ]
  },
  {
   "cell_type": "code",
   "execution_count": 3,
   "id": "2fff6ffa-12b9-4d0a-a670-6316b63cb1a2",
   "metadata": {},
   "outputs": [
    {
     "data": {
      "text/plain": [
       "plots\n",
       "311    13292\n",
       "321     1811\n",
       "351       99\n",
       "36        92\n",
       "341       15\n",
       "Name: count, dtype: int64"
      ]
     },
     "execution_count": 3,
     "metadata": {},
     "output_type": "execute_result"
    }
   ],
   "source": [
    "df_plots['plots'].value_counts()"
   ]
  },
  {
   "cell_type": "code",
   "execution_count": 4,
   "id": "994d919a-ff9b-4a4d-b4e6-fa00bd6d7e71",
   "metadata": {},
   "outputs": [
    {
     "data": {
      "text/plain": [
       "plots\n",
       "311    2658\n",
       "321    1811\n",
       "351      99\n",
       "36       92\n",
       "341      15\n",
       "Name: count, dtype: int64"
      ]
     },
     "execution_count": 4,
     "metadata": {},
     "output_type": "execute_result"
    }
   ],
   "source": [
    "class_311_df = df_plots[df_plots['plots'] == 311]\n",
    "class_311_sampled = class_311_df.sample(frac=0.2, random_state=42)\n",
    "non_class_311_df = df_plots[df_plots['plots'] != 311]\n",
    "\n",
    "final_df = pd.concat([class_311_sampled, non_class_311_df])\n",
    "\n",
    "final_df['plots'].value_counts()"
   ]
  },
  {
   "cell_type": "code",
   "execution_count": 5,
   "id": "6daf9085-7ac5-43d1-bd21-62129896eb3c",
   "metadata": {},
   "outputs": [],
   "source": [
    "gradient_df = gradient_df.loc[gradient_df['id'].isin(final_df['id'])]\n",
    "df_S2 = df_S2.loc[df_S2['id'].isin(final_df['id'])]\n",
    "df_plots = df_plots[df_plots['id'].isin(final_df['id'])]\n"
   ]
  },
  {
   "cell_type": "code",
   "execution_count": 6,
   "id": "1ac0737e-fce7-4916-b799-f1750029a66e",
   "metadata": {},
   "outputs": [],
   "source": [
    "df_S2.to_csv('images/out/df_S2_raw_masked_clean_80perc_20perc_ble.csv', index= False)\n",
    "gradient_df.to_csv('images/out/df_EnMAP_masked_gradient_80perc_20perc_ble.csv', index= False)\n",
    "df_plots.to_csv('images/out/df_plots_raw_masked_clean_80perc_20perc_ble.csv', index = False)\n"
   ]
  }
 ],
 "metadata": {
  "kernelspec": {
   "display_name": "Python 3 (ipykernel)",
   "language": "python",
   "name": "python3"
  },
  "language_info": {
   "codemirror_mode": {
    "name": "ipython",
    "version": 3
   },
   "file_extension": ".py",
   "mimetype": "text/x-python",
   "name": "python",
   "nbconvert_exporter": "python",
   "pygments_lexer": "ipython3",
   "version": "3.12.8"
  }
 },
 "nbformat": 4,
 "nbformat_minor": 5
}
