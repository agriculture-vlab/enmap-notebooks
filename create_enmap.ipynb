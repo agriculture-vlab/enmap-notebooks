{
 "cells": [
  {
   "cell_type": "markdown",
   "id": "3ec583d4-d59d-4684-a160-168adf5e12c6",
   "metadata": {},
   "source": [
    "# Create a masked EnMAP image"
   ]
  },
  {
   "cell_type": "markdown",
   "id": "e0d7ceeb-b87e-4286-a3c9-d24c8d72595d",
   "metadata": {},
   "source": [
    "This notebook reads an EnMAP Zarr dataset from the AVL data store, applies a cloud mask, optionally adjusts the co-ordinates, and saves the result locally as a TIFF file to use as an input for the subsequent processing notebooks."
   ]
  },
  {
   "cell_type": "code",
   "execution_count": 1,
   "id": "5e6742d7-0115-494c-b4bb-62986b990ba1",
   "metadata": {},
   "outputs": [],
   "source": [
    "import numpy as np\n",
    "import xarray as xr\n",
    "import rioxarray"
   ]
  },
  {
   "cell_type": "markdown",
   "id": "0579c5a1-3328-4355-8e00-c11a3f57020b",
   "metadata": {},
   "source": [
    "List the available EnMAP Zarr datasets on AVL. You can also find this list\n",
    "[on the Forum](https://forum.agriculturevlab.eu/t/enmap-data-access/46)."
   ]
  },
  {
   "cell_type": "code",
   "execution_count": 2,
   "id": "3df11e22-99ae-4b30-9604-6e5c330dc4f4",
   "metadata": {},
   "outputs": [
    {
     "data": {
      "text/plain": [
       "['enmap/Argentina/L2A-DT0000050274_20231103T143153Z_001_V010402_20240508T234610Z.zarr',\n",
       " 'enmap/Argentina/L2A-DT0000050274_20231103T143158Z_002_V010402_20240508T234508Z.zarr',\n",
       " 'enmap/Argentina/L2A-DT0000050274_20231103T143202Z_003_V010402_20240508T234256Z.zarr',\n",
       " 'enmap/Argentina/L2A-DT0000052335_20231130T143048Z_002_V010402_20240808T213202Z.zarr',\n",
       " 'enmap/Argentina/L2A-DT0000052335_20231130T143052Z_003_V010402_20240808T213031Z.zarr',\n",
       " 'enmap/Argentina/L2A-DT0000052335_20231130T143057Z_004_V010402_20240508T233932Z.zarr',\n",
       " 'enmap/Argentina/L2A-DT0000052335_20231130T143057Z_004_V010402_20240808T212142Z.zarr',\n",
       " 'enmap/Argentina/L2A-DT0000052335_20231130T143101Z_005_V010402_20240808T212854Z.zarr',\n",
       " 'enmap/Argentina/L2A-DT0000056394_20240104T143858Z_002_V010402_20240508T233315Z.zarr',\n",
       " 'enmap/Argentina/L2A-DT0000056394_20240104T143858Z_002_V010402_20240808T205506Z.zarr',\n",
       " 'enmap/Argentina/L2A-DT0000056394_20240104T143902Z_003_V010402_20240508T233350Z.zarr',\n",
       " 'enmap/Argentina/L2A-DT0000056394_20240104T143902Z_003_V010402_20240808T210009Z.zarr',\n",
       " 'enmap/Argentina/L2A-DT0000056394_20240104T143907Z_004_V010402_20240508T233046Z.zarr',\n",
       " 'enmap/Argentina/L2A-DT0000056394_20240104T143907Z_004_V010402_20240808T205358Z.zarr',\n",
       " 'enmap/Argentina/L2A-DT0000067344_20240329T144153Z_001_V010402_20240808T205029Z.zarr',\n",
       " 'enmap/Argentina/L2A-DT0000067344_20240329T144206Z_004_V010402_20240808T202547Z.zarr',\n",
       " 'enmap/Argentina/L2A-DT0000067344_20240329T144210Z_005_V010402_20240808T204056Z.zarr',\n",
       " 'enmap/Argentina/L2A-DT0000080174_20240629T142818Z_004_V010502_20241207T110905Z.zarr',\n",
       " 'enmap/Argentina/L2A-DT0000092200_20240907T144218Z_001_V010502_20241207T104851Z.zarr',\n",
       " 'enmap/Argentina/L2A-DT0000092200_20240907T144222Z_002_V010502_20241207T105159Z.zarr',\n",
       " 'enmap/Argentina/L2A-DT0000092200_20240907T144226Z_003_V010502_20241207T110125Z.zarr',\n",
       " 'enmap/Argentina/L2A-DT0000092200_20240907T144231Z_004_V010502_20241207T104943Z.zarr',\n",
       " 'enmap/Argentina/L2A-DT0000092200_20240907T144235Z_005_V010502_20241207T104845Z.zarr',\n",
       " 'enmap/Argentina/L2A-DT0000096793_20241011T142407Z_001_V010501_20241014T175839Z.zarr',\n",
       " 'enmap/Argentina/L2A-DT0000097743_20241019T143113Z_001_V010502_20241207T104447Z.zarr',\n",
       " 'enmap/Argentina/L2A-DT0000101283_20241115T143103Z_006_V010502_20241207T104314Z.zarr',\n",
       " 'enmap/Argentina/L2A-DT0000101283_20241115T143116Z_009_V010502_20241207T104440Z.zarr',\n",
       " 'enmap/Argentina/L2A-DT0000101283_20241115T143121Z_010_V010502_20241207T104339Z.zarr',\n",
       " 'enmap/Argentina/L2A-DT0000101283_20241115T143125Z_011_V010502_20241207T104309Z.zarr',\n",
       " 'enmap/Argentina/L2A-DT0000111742_20250108T143103Z_001_V010502_20250116T192916Z.zarr',\n",
       " 'enmap/Belgium/L2A-DT0000013763_20230421T111150Z_003_V010201_20230428T144916Z.zarr',\n",
       " 'enmap/Brazil/L2A-DT0000078938_20240613T140702Z_009_V010402_20240801T065832Z.zarr',\n",
       " 'enmap/Brazil/L2A-DT0000078938_20240613T140707Z_010_V010402_20240801T064710Z.zarr',\n",
       " 'enmap/Brazil/L2A-DT0000079335_20240617T141044Z_009_V010402_20240801T062807Z.zarr',\n",
       " 'enmap/Brazil/L2A-DT0000079335_20240617T141049Z_010_V010402_20240801T064609Z.zarr',\n",
       " 'enmap/Brazil/L2A-DT0000108874_20241227T141415Z_001_V010502_20250109T090729Z.zarr',\n",
       " 'enmap/Brazil/L2A-DT0000111938_20250123T141345Z_001_V010502_20250129T235354Z.zarr',\n",
       " 'enmap/Canada/L2A-DT0000071823_20240504T163052Z_001_V010402_20240618T063848Z.zarr',\n",
       " 'enmap/Canada/L2A-DT0000074372_20240523T162341Z_009_V010402_20240618T063832Z.zarr',\n",
       " 'enmap/Canada/L2A-DT0000074372_20240523T162346Z_010_V010402_20240618T063827Z.zarr',\n",
       " 'enmap/Canada/L2A-DT0000074372_20240523T162350Z_011_V010402_20240618T063819Z.zarr',\n",
       " 'enmap/Canada/L2A-DT0000074372_20240523T162354Z_012_V010402_20240618T063807Z.zarr',\n",
       " 'enmap/Canada/L2A-DT0000074372_20240523T162359Z_013_V010402_20240618T063823Z.zarr',\n",
       " 'enmap/Canada/L2A-DT0000074495_20240524T164852Z_001_V010402_20240618T063840Z.zarr',\n",
       " 'enmap/Canada/L2A-DT0000077791_20240615T162041Z_001_V010402_20240812T213041Z.zarr',\n",
       " 'enmap/Canada/L2A-DT0000079879_20240627T163127Z_016_V010402_20240812T201409Z.zarr',\n",
       " 'enmap/Canada/L2A-DT0000079879_20240627T163132Z_017_V010402_20240812T200702Z.zarr',\n",
       " 'enmap/Canada/L2A-DT0000079879_20240627T163136Z_018_V010402_20240812T195816Z.zarr',\n",
       " 'enmap/Canada/L2A-DT0000079879_20240627T163141Z_019_V010402_20240812T195347Z.zarr',\n",
       " 'enmap/Canada/L2A-DT0000079879_20240627T163145Z_020_V010402_20240812T195315Z.zarr',\n",
       " 'enmap/Canada/L2A-DT0000079879_20240627T163149Z_021_V010402_20240812T195114Z.zarr',\n",
       " 'enmap/Canada/L2A-DT0000080549_20240701T163502Z_009_V010402_20240812T212958Z.zarr',\n",
       " 'enmap/Canada/L2A-DT0000080549_20240701T163507Z_010_V010402_20240812T212118Z.zarr',\n",
       " 'enmap/Canada/L2A-DT0000080549_20240701T163511Z_011_V010402_20240812T211203Z.zarr',\n",
       " 'enmap/Canada/L2A-DT0000080549_20240701T163515Z_012_V010402_20240812T203404Z.zarr',\n",
       " 'enmap/Canada/L2A-DT0000080549_20240701T163520Z_013_V010402_20240812T202336Z.zarr',\n",
       " 'enmap/Canada/L2A-DT0000085186_20240720T162722Z_008_V010402_20240812T192552Z.zarr',\n",
       " 'enmap/Canada/L2A-DT0000085186_20240720T162726Z_009_V010402_20240812T193209Z.zarr',\n",
       " 'enmap/Canada/L2A-DT0000085186_20240720T162731Z_010_V010402_20240812T192025Z.zarr',\n",
       " 'enmap/Canada/L2A-DT0000085186_20240720T162735Z_011_V010402_20240812T191307Z.zarr',\n",
       " 'enmap/Canada/L2A-DT0000085186_20240720T162739Z_012_V010402_20240812T190413Z.zarr',\n",
       " 'enmap/Canada/L2A-DT0000085188_20240728T163423Z_008_V010402_20240812T185101Z.zarr',\n",
       " 'enmap/Canada/L2A-DT0000085188_20240728T163427Z_009_V010402_20240812T185222Z.zarr',\n",
       " 'enmap/Canada/L2A-DT0000085188_20240728T163432Z_010_V010402_20240812T190030Z.zarr',\n",
       " 'enmap/Canada/L2A-DT0000085188_20240728T163436Z_011_V010402_20240812T184959Z.zarr',\n",
       " 'enmap/Canada/L2A-DT0000085188_20240728T163440Z_012_V010402_20240812T183046Z.zarr',\n",
       " 'enmap/Canada/L2A-DT0000085188_20240728T163445Z_013_V010402_20240812T183539Z.zarr',\n",
       " 'enmap/Canada/L2A-DT0000085189_20240801T163802Z_008_V010402_20240822T220917Z.zarr',\n",
       " 'enmap/Canada/L2A-DT0000085189_20240801T163806Z_009_V010402_20240822T215631Z.zarr',\n",
       " 'enmap/Canada/L2A-DT0000085189_20240801T163811Z_010_V010402_20240822T215615Z.zarr',\n",
       " 'enmap/Canada/L2A-DT0000085189_20240801T163815Z_011_V010402_20240822T214805Z.zarr',\n",
       " 'enmap/Canada/L2A-DT0000085189_20240801T163819Z_012_V010402_20240822T214551Z.zarr',\n",
       " 'enmap/Canada/L2A-DT0000085189_20240801T163824Z_013_V010402_20240822T214247Z.zarr',\n",
       " 'enmap/Canada/L2A-DT0000092901_20240916T163107Z_001_V010402_20240924T230131Z.zarr',\n",
       " 'enmap/Canada/L2A-DT0000095804_20240920T163429Z_001_V010501_20241016T145645Z.zarr',\n",
       " 'enmap/Canada/L2A-DT0000097561_20241017T163451Z_001_V010501_20241022T233251Z.zarr',\n",
       " 'enmap/China/L2A-DT0000070342_20240423T034625Z_001_V010402_20240424T145233Z.zarr',\n",
       " 'enmap/China/L2A-DT0000070342_20240423T034625Z_001_V010402_20240501T142243Z.zarr',\n",
       " 'enmap/Ghana/L2A-DT0000078397_20240618T111536Z_001_V010402_20240723T062059Z.zarr',\n",
       " 'enmap/Ghana/L2A-DT0000095809_20240930T111121Z_001_V010402_20241001T004737Z.zarr',\n",
       " 'enmap/Ghana/L2A-DT0000097720_20241015T110107Z_001_V010501_20241017T132433Z.zarr',\n",
       " 'enmap/Ghana/L2A-DT0000107290_20241220T111146Z_001_V010502_20250109T113737Z.zarr',\n",
       " 'enmap/Mali/L2A-DT0000099790_20241024T113243Z_001_V010501_20241106T070707Z.zarr',\n",
       " 'enmap/Mali/L2A-DT0000099794_20241028T113633Z_001_V010501_20241106T070604Z.zarr',\n",
       " 'enmap/Mali/L2A-DT0000105365_20241202T114250Z_001_V010502_20250109T113822Z.zarr',\n",
       " 'enmap/Mali/L2A-DT0000105365_20241202T114255Z_002_V010502_20250109T113759Z.zarr',\n",
       " 'enmap/Poland/L2A-DT0000092972_20240917T102351Z_001_V010402_20240921T015837Z.zarr',\n",
       " 'enmap/Russia/L2A-DT0000071194_20240429T092804Z_001_V010402_20240501T165400Z.zarr',\n",
       " 'enmap/Russia/L2A-DT0000071194_20240429T092804Z_001_V010402_20240801T062656Z.zarr',\n",
       " 'enmap/South_Africa/L2A-DT0000056610_20240106T085753Z_008_V010402_20240810T001203Z.zarr',\n",
       " 'enmap/South_Africa/L2A-DT0000056610_20240106T085757Z_009_V010402_20240809T235913Z.zarr',\n",
       " 'enmap/South_Africa/L2A-DT0000070333_20240423T085706Z_008_V010402_20240809T234828Z.zarr',\n",
       " 'enmap/South_Africa/L2A-DT0000070333_20240423T085710Z_009_V010402_20240809T235349Z.zarr',\n",
       " 'enmap/South_Africa/L2A-DT0000072746_20240508T084559Z_009_V010402_20240809T231806Z.zarr',\n",
       " 'enmap/South_Africa/L2A-DT0000082680_20240709T085356Z_008_V010402_20240809T231633Z.zarr',\n",
       " 'enmap/South_Africa/L2A-DT0000096946_20241013T084250Z_008_V010501_20241022T233625Z.zarr',\n",
       " 'enmap/South_Africa/L2A-DT0000096946_20241013T084255Z_009_V010501_20241022T233439Z.zarr',\n",
       " 'enmap/South_Africa/L2A-DT0000100401_20241102T090031Z_006_V010501_20241120T162550Z.zarr',\n",
       " 'enmap/South_Africa/L2A-DT0000100401_20241102T090035Z_007_V010501_20241120T163041Z.zarr',\n",
       " 'enmap/South_Africa/L2A-DT0000103941_20241202T083856Z_001_V010502_20250109T113947Z.zarr']"
      ]
     },
     "execution_count": 2,
     "metadata": {},
     "output_type": "execute_result"
    }
   ],
   "source": [
    "[data_id for data_id in data_store.list_data_ids() if data_id.startswith(\"enmap/\")]"
   ]
  },
  {
   "cell_type": "markdown",
   "id": "6e8b585d-2e1c-481f-a515-91429fc1b564",
   "metadata": {},
   "source": [
    "Select a dataset identifier. If you need resampling, define the y extent of the global resolution. If you don't need resampling, you can set `y_max` and `y_min` to `None`."
   ]
  },
  {
   "cell_type": "code",
   "execution_count": 3,
   "id": "fba2d3ee-b9ff-4e66-a346-1d9387e6f6a8",
   "metadata": {},
   "outputs": [],
   "source": [
    "input_zarr_id = \"enmap/Belgium/L2A-DT0000013763_20230421T111150Z_003_V010201_20230428T144916Z.zarr\"\n",
    "y_max = 5627820\n",
    "y_min = 5586300"
   ]
  },
  {
   "cell_type": "markdown",
   "id": "241ce5c7-7d67-4d04-9e85-89b3ef7a821b",
   "metadata": {},
   "source": [
    "Open the selected dataset."
   ]
  },
  {
   "cell_type": "code",
   "execution_count": 4,
   "id": "02ce76db-e92a-437e-af9e-f23304d95884",
   "metadata": {},
   "outputs": [],
   "source": [
    "enmap = data_store.open_data(input_zarr_id)"
   ]
  },
  {
   "cell_type": "markdown",
   "id": "e659bde2-dddf-47b4-90cd-23694b747629",
   "metadata": {},
   "source": [
    "Mask the reflectance data, and apply the new y co-ordinates if they've been defined."
   ]
  },
  {
   "cell_type": "code",
   "execution_count": 5,
   "id": "1a03ce1f-5da9-4408-9b97-7f33db0e2d24",
   "metadata": {},
   "outputs": [],
   "source": [
    "enmap_masked = (\n",
    "    enmap.reflectance.where(\n",
    "        (enmap.cloud == 0) &\n",
    "        (enmap.cloudshadow == 0) &\n",
    "        (enmap.haze == 0) & \n",
    "        (enmap.cirrus == 0)\n",
    "    )\n",
    ")\n",
    "\n",
    "if None not in [y_max, y_min]:\n",
    "    new_y_coords = np.arange(y_max, y_min, -30, dtype=np.float64)\n",
    "    enmap_masked = enmap_masked.interp({\"y\": new_y_coords}, method=\"nearest\")\n",
    "\n",
    "enmap_masked = enmap_masked.astype(np.float32)"
   ]
  },
  {
   "cell_type": "markdown",
   "id": "537de540-7b89-4af8-930e-e4dbc59b0b1b",
   "metadata": {},
   "source": [
    "Save the image, applying LZW compression to reduce the file size. This may take about a minute to complete."
   ]
  },
  {
   "cell_type": "code",
   "execution_count": 6,
   "id": "9306fbb4-1145-49e4-a14f-a704de7413fc",
   "metadata": {},
   "outputs": [],
   "source": [
    "enmap_masked.rio.to_raster(\"images/EnMAP_resampled_notglob.tif\", compress=\"LZW\")"
   ]
  },
  {
   "cell_type": "code",
   "execution_count": null,
   "id": "a50760e7-aaca-48fb-96b9-0f93d24784b0",
   "metadata": {},
   "outputs": [],
   "source": []
  }
 ],
 "metadata": {
  "kernelspec": {
   "display_name": "Python 3 (ipykernel)",
   "language": "python",
   "name": "python3"
  },
  "language_info": {
   "codemirror_mode": {
    "name": "ipython",
    "version": 3
   },
   "file_extension": ".py",
   "mimetype": "text/x-python",
   "name": "python",
   "nbconvert_exporter": "python",
   "pygments_lexer": "ipython3",
   "version": "3.11.11"
  }
 },
 "nbformat": 4,
 "nbformat_minor": 5
}
